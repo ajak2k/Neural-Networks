{
  "nbformat": 4,
  "nbformat_minor": 0,
  "metadata": {
    "colab": {
      "name": "CT1char rec.ipynb",
      "provenance": [],
      "collapsed_sections": [],
      "include_colab_link": true
    },
    "kernelspec": {
      "display_name": "Python 3",
      "language": "python",
      "name": "python3"
    },
    "language_info": {
      "codemirror_mode": {
        "name": "ipython",
        "version": 3
      },
      "file_extension": ".py",
      "mimetype": "text/x-python",
      "name": "python",
      "nbconvert_exporter": "python",
      "pygments_lexer": "ipython3",
      "version": "3.7.0"
    }
  },
  "cells": [
    {
      "cell_type": "markdown",
      "metadata": {
        "id": "view-in-github",
        "colab_type": "text"
      },
      "source": [
        "<a href=\"https://colab.research.google.com/github/ajak2k/Neural-Networks/blob/master/CT1char_rec.ipynb\" target=\"_parent\"><img src=\"https://colab.research.google.com/assets/colab-badge.svg\" alt=\"Open In Colab\"/></a>"
      ]
    },
    {
      "cell_type": "markdown",
      "metadata": {
        "colab_type": "text",
        "id": "t4oe3mDrZNKs"
      },
      "source": [
        "Here we aim to train the model for the character ***I***"
      ]
    },
    {
      "cell_type": "code",
      "metadata": {
        "colab_type": "code",
        "id": "G2X5RZ_lOix4",
        "colab": {}
      },
      "source": [
        "import numpy as np"
      ],
      "execution_count": 0,
      "outputs": []
    },
    {
      "cell_type": "markdown",
      "metadata": {
        "colab_type": "text",
        "id": "V6oO5dE5UXmK"
      },
      "source": [
        "Creating IP dataset"
      ]
    },
    {
      "cell_type": "code",
      "metadata": {
        "colab_type": "code",
        "id": "91rMjKKnYpUP",
        "colab": {}
      },
      "source": [
        "inputs = []\n",
        "a1 = np.zeros(25) - 1\n",
        "a2 = np.zeros(25) - 1\n",
        "a3 = np.zeros(25) - 1\n",
        "a4 = np.zeros(25) - 1\n",
        "a5 = np.zeros(25) - 1\n",
        "a6 = np.zeros(25) - 1\n",
        "a7 = np.zeros(25) - 1\n",
        "a8 = np.zeros(25) - 1"
      ],
      "execution_count": 0,
      "outputs": []
    },
    {
      "cell_type": "code",
      "metadata": {
        "colab_type": "code",
        "id": "DuVm6EJzOiy_",
        "colab": {}
      },
      "source": [
        "#C\n",
        "for i in range(1, 5):\n",
        "    a1[i] = 1\n",
        "for i in range(5, 16, 5):\n",
        "    a1[i] = 1\n",
        "for i in range(21, 25):\n",
        "    a1[i] = 1\n",
        "#O\n",
        "for i in range(1, 4):\n",
        "    a2[i] = 1\n",
        "for i in range(5, 16, 5):\n",
        "    a2[i] = 1\n",
        "for i in range(9, 20, 5):\n",
        "    a2[i] = 1\n",
        "for i in range(21, 24):\n",
        "    a2[i] = 1\n",
        "\n",
        "#D\n",
        "for i in range(0, 4):\n",
        "    a3[i] = 1\n",
        "for i in range(5, 16, 5):\n",
        "    a3[i] = 1\n",
        "for i in range(20, 24):\n",
        "    a3[i] = 1\n",
        "for i in range(9, 20, 5):\n",
        "    a3[i] = 1\n",
        "\n",
        "#F\n",
        "for i in range(0, 5):\n",
        "    a4[i] = 1\n",
        "for i in range(5, 21, 5):\n",
        "    a4[i] = 1\n",
        "for i in range(10, 15):\n",
        "    a4[i] = 1\n",
        "\n",
        "#x1\n",
        "a5 = [0,1,1,0,1, 1,0,1,0,1, 0,1,1,1,1, 0,0,1,0,1, 1,1,1,0,1]\n",
        "\n",
        "#I\n",
        "a6 = [0,0,0,0,0, 0,1,1,1,1, 0,1,1,1,1, 1,1,1,1,1, 1,1,1,1,1]\n",
        "\n",
        "#E\n",
        "for i in range(0, 5):\n",
        "    a7[i] = 1\n",
        "for i in range(5, 21, 5):\n",
        "    a7[i] = 1\n",
        "for i in range(21, 25):\n",
        "    a7[i] = 1\n",
        "for i in range(10, 15):\n",
        "    a7[i] = 1\n",
        "\n",
        "#I\n",
        "for i in range(0, 4):\n",
        "    a8[i] = 1\n",
        "for i in range(7, 17, 5):\n",
        "    a8[i] = 1\n",
        "for i in range(20, 24):\n",
        "    a8[i] = 1"
      ],
      "execution_count": 0,
      "outputs": []
    },
    {
      "cell_type": "code",
      "metadata": {
        "colab_type": "code",
        "id": "Xj60TZDDOizy",
        "colab": {}
      },
      "source": [
        "inputs.append(a1)\n",
        "inputs.append(a2)\n",
        "inputs.append(a3)\n",
        "inputs.append(a4)\n",
        "inputs.append(a5)\n",
        "inputs.append(a6)\n",
        "inputs.append(a7)\n",
        "inputs.append(a8)"
      ],
      "execution_count": 0,
      "outputs": []
    },
    {
      "cell_type": "markdown",
      "metadata": {
        "colab_type": "text",
        "id": "iC8VwV5fU3q_"
      },
      "source": [
        "Output dataset"
      ]
    },
    {
      "cell_type": "code",
      "metadata": {
        "colab_type": "code",
        "id": "6VHVPCHrU15Q",
        "colab": {}
      },
      "source": [
        "outputs = [-1, -1, -1, -1, 1, 1, -1, -1]"
      ],
      "execution_count": 0,
      "outputs": []
    },
    {
      "cell_type": "markdown",
      "metadata": {
        "colab_type": "text",
        "id": "L5GR6W3yVGGl"
      },
      "source": [
        "Activation fuction"
      ]
    },
    {
      "cell_type": "code",
      "metadata": {
        "colab_type": "code",
        "id": "dfQibd5JOi0E",
        "colab": {}
      },
      "source": [
        "def sigmoid(x):\n",
        "    return 1/(1 + np.exp(-x))"
      ],
      "execution_count": 0,
      "outputs": []
    },
    {
      "cell_type": "markdown",
      "metadata": {
        "colab_type": "text",
        "id": "WWNUpDwsVDCG"
      },
      "source": [
        "Initializing Weights"
      ]
    },
    {
      "cell_type": "code",
      "metadata": {
        "colab_type": "code",
        "id": "0JiMnMBUOiz7",
        "colab": {}
      },
      "source": [
        "weights = np.zeros(25)\n",
        "bias = 0\n",
        "epochs = 10\n",
        "alpha = 1\n",
        "target = np.zeros(len(inputs))"
      ],
      "execution_count": 0,
      "outputs": []
    },
    {
      "cell_type": "markdown",
      "metadata": {
        "colab_type": "text",
        "id": "tYIvcA9uVKD4"
      },
      "source": [
        "Training using Perceptron model"
      ]
    },
    {
      "cell_type": "code",
      "metadata": {
        "colab_type": "code",
        "id": "GUdLtwrTOi0L",
        "colab": {}
      },
      "source": [
        "for e in range(epochs):\n",
        "    for i in range(len(inputs)):\n",
        "        out = np.matmul(inputs[i], weights) + bias\n",
        "        out = sigmoid(out)\n",
        "\n",
        "        if out>0.75:\n",
        "            y = 1\n",
        "        else:\n",
        "            y = -1\n",
        "\n",
        "        if y!=outputs[i]:   # Weight updation\n",
        "            del_w = alpha*outputs[i]*inputs[i]\n",
        "            del_b = alpha*outputs[i]\n",
        "            weights += del_w\n",
        "            bias += del_b"
      ],
      "execution_count": 0,
      "outputs": []
    },
    {
      "cell_type": "markdown",
      "metadata": {
        "colab_type": "text",
        "id": "BDNEdHw7Tsni"
      },
      "source": [
        "Testing and Validation Phase"
      ]
    },
    {
      "cell_type": "code",
      "metadata": {
        "colab_type": "code",
        "id": "_-b7rn_7Oi0p",
        "colab": {}
      },
      "source": [
        "def predict(x):\n",
        "    out_test_predict = np.matmul(x, weights) + bias\n",
        "    sig_out_test_predict = sigmoid(out_test_predict)\n",
        "    if(sig_out_test_predict > 0.85):\n",
        "        print(\"It's a match\")\n",
        "    else:\n",
        "        print(\"It isn't a match\")"
      ],
      "execution_count": 0,
      "outputs": []
    },
    {
      "cell_type": "code",
      "metadata": {
        "colab_type": "code",
        "id": "LHetHNUdOi0t",
        "outputId": "f50795c1-fb86-44d9-a1b1-b8d94cafbd66",
        "colab": {
          "base_uri": "https://localhost:8080/",
          "height": 34
        }
      },
      "source": [
        "predict(a1)"
      ],
      "execution_count": 90,
      "outputs": [
        {
          "output_type": "stream",
          "text": [
            "It isn't a match\n"
          ],
          "name": "stdout"
        }
      ]
    },
    {
      "cell_type": "code",
      "metadata": {
        "colab_type": "code",
        "id": "s6EMIZVMOi0x",
        "outputId": "b3607488-afd5-47fe-9a65-12b71d405ac6",
        "colab": {
          "base_uri": "https://localhost:8080/",
          "height": 34
        }
      },
      "source": [
        "predict(a4)"
      ],
      "execution_count": 91,
      "outputs": [
        {
          "output_type": "stream",
          "text": [
            "It isn't a match\n"
          ],
          "name": "stdout"
        }
      ]
    },
    {
      "cell_type": "code",
      "metadata": {
        "colab_type": "code",
        "id": "f63zFm6POi03",
        "outputId": "82f6f5b5-f6f9-4706-8a71-6d144a3bb7be",
        "colab": {
          "base_uri": "https://localhost:8080/",
          "height": 34
        }
      },
      "source": [
        "predict(a2)"
      ],
      "execution_count": 92,
      "outputs": [
        {
          "output_type": "stream",
          "text": [
            "It isn't a match\n"
          ],
          "name": "stdout"
        }
      ]
    },
    {
      "cell_type": "code",
      "metadata": {
        "colab_type": "code",
        "id": "yn0ltr0eOi06",
        "outputId": "a392c8c1-6350-4cd3-934b-5866a9fdc3e0",
        "colab": {
          "base_uri": "https://localhost:8080/",
          "height": 34
        }
      },
      "source": [
        "predict(a3)"
      ],
      "execution_count": 93,
      "outputs": [
        {
          "output_type": "stream",
          "text": [
            "It isn't a match\n"
          ],
          "name": "stdout"
        }
      ]
    },
    {
      "cell_type": "code",
      "metadata": {
        "colab_type": "code",
        "id": "67TxCGMTOi09",
        "outputId": "6910b5d5-54c4-45f3-a5be-bc0c2c518f92",
        "colab": {
          "base_uri": "https://localhost:8080/",
          "height": 34
        }
      },
      "source": [
        "predict(a5)"
      ],
      "execution_count": 94,
      "outputs": [
        {
          "output_type": "stream",
          "text": [
            "It's a match\n"
          ],
          "name": "stdout"
        }
      ]
    },
    {
      "cell_type": "code",
      "metadata": {
        "colab_type": "code",
        "id": "fZHz4MLfOi1D",
        "outputId": "4bfdf6d1-9cd9-4e33-fb49-6922b26eeeff",
        "colab": {
          "base_uri": "https://localhost:8080/",
          "height": 34
        }
      },
      "source": [
        "predict(a6)"
      ],
      "execution_count": 95,
      "outputs": [
        {
          "output_type": "stream",
          "text": [
            "It's a match\n"
          ],
          "name": "stdout"
        }
      ]
    },
    {
      "cell_type": "code",
      "metadata": {
        "colab_type": "code",
        "outputId": "173d1c91-2c2f-4757-9b19-bf82cf2f5030",
        "id": "Y45UzwNTSgBZ",
        "colab": {
          "base_uri": "https://localhost:8080/",
          "height": 34
        }
      },
      "source": [
        "predict(a7)"
      ],
      "execution_count": 96,
      "outputs": [
        {
          "output_type": "stream",
          "text": [
            "It isn't a match\n"
          ],
          "name": "stdout"
        }
      ]
    },
    {
      "cell_type": "code",
      "metadata": {
        "colab_type": "code",
        "outputId": "f24fc9a7-ef6c-449d-8087-80aea2504d94",
        "id": "Dq8kIXR4Sgfl",
        "colab": {
          "base_uri": "https://localhost:8080/",
          "height": 34
        }
      },
      "source": [
        "predict(a8)"
      ],
      "execution_count": 97,
      "outputs": [
        {
          "output_type": "stream",
          "text": [
            "It isn't a match\n"
          ],
          "name": "stdout"
        }
      ]
    },
    {
      "cell_type": "markdown",
      "metadata": {
        "colab_type": "text",
        "id": "3Bpe6W9fZgqK"
      },
      "source": [
        "Testing new values that the model has never seen before"
      ]
    },
    {
      "cell_type": "code",
      "metadata": {
        "colab_type": "code",
        "id": "Y-QwlRNxOi1I",
        "outputId": "55dbd676-e932-4f8b-8fa1-1da71ec074e9",
        "colab": {
          "base_uri": "https://localhost:8080/",
          "height": 34
        }
      },
      "source": [
        "a_test1 = np.zeros(25)\n",
        "predict(a_test1)"
      ],
      "execution_count": 98,
      "outputs": [
        {
          "output_type": "stream",
          "text": [
            "It isn't a match\n"
          ],
          "name": "stdout"
        }
      ]
    }
  ]
}