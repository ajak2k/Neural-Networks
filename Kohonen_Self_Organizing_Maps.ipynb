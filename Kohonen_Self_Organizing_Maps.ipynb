{
  "nbformat": 4,
  "nbformat_minor": 0,
  "metadata": {
    "colab": {
      "name": "Kohonen Self Organizing Maps.ipynb",
      "provenance": [],
      "collapsed_sections": [],
      "include_colab_link": true
    },
    "kernelspec": {
      "name": "python3",
      "display_name": "Python 3"
    }
  },
  "cells": [
    {
      "cell_type": "markdown",
      "metadata": {
        "id": "view-in-github",
        "colab_type": "text"
      },
      "source": [
        "<a href=\"https://colab.research.google.com/github/ajak2k/Neural-Networks/blob/master/Kohonen_Self_Organizing_Maps.ipynb\" target=\"_parent\"><img src=\"https://colab.research.google.com/assets/colab-badge.svg\" alt=\"Open In Colab\"/></a>"
      ]
    },
    {
      "cell_type": "markdown",
      "metadata": {
        "id": "4iYbYwVNtWiR",
        "colab_type": "text"
      },
      "source": [
        "Initialization of Parameters"
      ]
    },
    {
      "cell_type": "code",
      "metadata": {
        "id": "5_MYbYujWM6G",
        "colab_type": "code",
        "colab": {
          "base_uri": "https://localhost:8080/",
          "height": 50
        },
        "outputId": "5e061ba4-877e-4367-e504-29d019f94ace"
      },
      "source": [
        "import numpy as np\n",
        "inputs = np.array([[1, 1, 1, -1], [-1, -1, -1, 1], [1, -1, -1, -1], [-1, -1, 1, 1]])\n",
        "\n",
        "#Setting the initial weights\n",
        "#weights = np.array([[0.2, 0.6, .05,0.9], [0.8, 0.4, 0.7, 0.3]])\n",
        "weights = np.array([0.2, 0.8, 0.6, 0.4, 0.5, 0.7, 0.9, 0.3])\n",
        "weights = weights.reshape((4, 2)) \n",
        "weights = weights.transpose()\n",
        "\n",
        "a = 0.9 #Learning Rate\n",
        "\n",
        "m = 4 #Number of input neurons\n",
        "n = 2 #Number of clusters\n",
        "\n",
        "epoch = 1000"
      ],
      "execution_count": 8,
      "outputs": [
        {
          "output_type": "stream",
          "text": [
            "[[0.2  0.6  0.05 0.9 ]\n",
            " [0.8  0.4  0.7  0.3 ]]\n"
          ],
          "name": "stdout"
        }
      ]
    },
    {
      "cell_type": "markdown",
      "metadata": {
        "id": "KUORb9C-tRhI",
        "colab_type": "text"
      },
      "source": [
        "Training"
      ]
    },
    {
      "cell_type": "code",
      "metadata": {
        "id": "fz2eckoBW2Xj",
        "colab_type": "code",
        "colab": {}
      },
      "source": [
        "for i in range(epoch):\n",
        "  for j in range(m):\n",
        "    ed1 = ( ( inputs[j] - weights[0] ) ** 2 ).sum()\n",
        "    ed2 = ( ( inputs[j] - weights[1] ) ** 2 ).sum()\n",
        "    if( ed1 < ed2 ):\n",
        "      weights[0] = weights[0] + a * (inputs[j] - weights[0])\n",
        "    else:\n",
        "      weights[1] = weights[1] + a * (inputs[j] - weights[1])\n",
        "  a = a * 0.5\n",
        "      "
      ],
      "execution_count": 0,
      "outputs": []
    },
    {
      "cell_type": "markdown",
      "metadata": {
        "id": "5wqP7aXBtTqB",
        "colab_type": "text"
      },
      "source": [
        "Testing and Validation"
      ]
    },
    {
      "cell_type": "code",
      "metadata": {
        "id": "tow-JcPmbKaZ",
        "colab_type": "code",
        "colab": {
          "base_uri": "https://localhost:8080/",
          "height": 286
        },
        "outputId": "5d06b188-bfb7-4617-fb98-c41a7bec8f50"
      },
      "source": [
        "print(weights.transpose())\n",
        "for j in range(m):\n",
        "    ed1 = ( ( inputs[j] - weights[0] ) ** 2 ).sum()\n",
        "    ed2 = ( ( inputs[j] - weights[1] ) ** 2 ).sum()\n",
        "    if( ed1 < ed2 ):\n",
        "     print('For this input')\n",
        "     print(inputs[j])\n",
        "     print('belong to cluster 1')\n",
        "    else:\n",
        "     print('For this input')\n",
        "     print(inputs[j])\n",
        "     print('belong to cluster 2')\n",
        "\n",
        "\n"
      ],
      "execution_count": 3,
      "outputs": [
        {
          "output_type": "stream",
          "text": [
            "[[-0.97938355  0.99772445]\n",
            " [-0.99981796 -0.01480825]\n",
            " [ 0.21295147 -0.01139493]\n",
            " [ 0.9795087  -0.98520895]]\n",
            "For this input\n",
            "[ 1  1  1 -1]\n",
            "belong to cluster 2\n",
            "For this input\n",
            "[-1 -1 -1  1]\n",
            "belong to cluster 1\n",
            "For this input\n",
            "[ 1 -1 -1 -1]\n",
            "belong to cluster 2\n",
            "For this input\n",
            "[-1 -1  1  1]\n",
            "belong to cluster 1\n"
          ],
          "name": "stdout"
        }
      ]
    }
  ]
}