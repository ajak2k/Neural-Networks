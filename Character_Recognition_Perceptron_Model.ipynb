{
  "nbformat": 4,
  "nbformat_minor": 0,
  "metadata": {
    "kernelspec": {
      "display_name": "Python 3",
      "language": "python",
      "name": "python3"
    },
    "language_info": {
      "codemirror_mode": {
        "name": "ipython",
        "version": 3
      },
      "file_extension": ".py",
      "mimetype": "text/x-python",
      "name": "python",
      "nbconvert_exporter": "python",
      "pygments_lexer": "ipython3",
      "version": "3.7.5"
    },
    "colab": {
      "name": "Character Recognition Perceptron Model.ipynb",
      "provenance": [],
      "include_colab_link": true
    }
  },
  "cells": [
    {
      "cell_type": "markdown",
      "metadata": {
        "id": "view-in-github",
        "colab_type": "text"
      },
      "source": [
        "<a href=\"https://colab.research.google.com/github/ajak2k/Neural-Networks/blob/master/Character_Recognition_Perceptron_Model.ipynb\" target=\"_parent\"><img src=\"https://colab.research.google.com/assets/colab-badge.svg\" alt=\"Open In Colab\"/></a>"
      ]
    },
    {
      "cell_type": "markdown",
      "metadata": {
        "id": "t4oe3mDrZNKs",
        "colab_type": "text"
      },
      "source": [
        "Here we aim to train the model for the character ***I***"
      ]
    },
    {
      "cell_type": "code",
      "metadata": {
        "id": "G2X5RZ_lOix4",
        "colab_type": "code",
        "colab": {}
      },
      "source": [
        "import numpy as np"
      ],
      "execution_count": 0,
      "outputs": []
    },
    {
      "cell_type": "markdown",
      "metadata": {
        "id": "V6oO5dE5UXmK",
        "colab_type": "text"
      },
      "source": [
        "Creating IP dataset"
      ]
    },
    {
      "cell_type": "code",
      "metadata": {
        "id": "91rMjKKnYpUP",
        "colab_type": "code",
        "colab": {}
      },
      "source": [
        "inputs = []\n",
        "a1 = np.zeros(25) - 1\n",
        "a2 = np.zeros(25) - 1\n",
        "a3 = np.zeros(25) - 1\n",
        "a4 = np.zeros(25) - 1\n",
        "a5 = np.zeros(25) - 1\n",
        "a6 = np.zeros(25) - 1"
      ],
      "execution_count": 0,
      "outputs": []
    },
    {
      "cell_type": "code",
      "metadata": {
        "id": "DuVm6EJzOiy_",
        "colab_type": "code",
        "colab": {}
      },
      "source": [
        "#C\n",
        "for i in range(1, 5):\n",
        "    a1[i] = 1\n",
        "for i in range(5, 16, 5):\n",
        "    a1[i] = 1\n",
        "for i in range(21, 25):\n",
        "    a1[i] = 1\n",
        "#O\n",
        "for i in range(1, 4):\n",
        "    a2[i] = 1\n",
        "for i in range(5, 16, 5):\n",
        "    a2[i] = 1\n",
        "for i in range(9, 20, 5):\n",
        "    a2[i] = 1\n",
        "for i in range(21, 24):\n",
        "    a2[i] = 1\n",
        "\n",
        "#D\n",
        "for i in range(0, 4):\n",
        "    a3[i] = 1\n",
        "for i in range(5, 16, 5):\n",
        "    a3[i] = 1\n",
        "for i in range(20, 24):\n",
        "    a3[i] = 1\n",
        "for i in range(9, 20, 5):\n",
        "    a3[i] = 1\n",
        "\n",
        "#F\n",
        "for i in range(0, 5):\n",
        "    a4[i] = 1\n",
        "for i in range(5, 21, 5):\n",
        "    a4[i] = 1\n",
        "for i in range(10, 15):\n",
        "    a4[i] = 1\n",
        "\n",
        "#E\n",
        "for i in range(0, 5):\n",
        "    a5[i] = 1\n",
        "for i in range(5, 21, 5):\n",
        "    a5[i] = 1\n",
        "for i in range(21, 25):\n",
        "    a5[i] = 1\n",
        "for i in range(10, 15):\n",
        "    a5[i] = 1\n",
        "\n",
        "#I\n",
        "for i in range(0, 4):\n",
        "    a6[i] = 1\n",
        "for i in range(7, 17, 5):\n",
        "    a6[i] = 1\n",
        "for i in range(20, 24):\n",
        "    a6[i] = 1"
      ],
      "execution_count": 0,
      "outputs": []
    },
    {
      "cell_type": "code",
      "metadata": {
        "id": "Xj60TZDDOizy",
        "colab_type": "code",
        "colab": {}
      },
      "source": [
        "inputs.append(a1)\n",
        "inputs.append(a2)\n",
        "inputs.append(a3)\n",
        "inputs.append(a4)\n",
        "inputs.append(a5)\n",
        "inputs.append(a6)"
      ],
      "execution_count": 0,
      "outputs": []
    },
    {
      "cell_type": "markdown",
      "metadata": {
        "id": "iC8VwV5fU3q_",
        "colab_type": "text"
      },
      "source": [
        "Output dataset"
      ]
    },
    {
      "cell_type": "code",
      "metadata": {
        "id": "6VHVPCHrU15Q",
        "colab_type": "code",
        "colab": {}
      },
      "source": [
        "outputs = [-1, -1, -1, -1, -1, 1]"
      ],
      "execution_count": 0,
      "outputs": []
    },
    {
      "cell_type": "markdown",
      "metadata": {
        "id": "L5GR6W3yVGGl",
        "colab_type": "text"
      },
      "source": [
        "Activation fuction"
      ]
    },
    {
      "cell_type": "code",
      "metadata": {
        "id": "dfQibd5JOi0E",
        "colab_type": "code",
        "colab": {}
      },
      "source": [
        "def sigmoid(x):\n",
        "    return 1/(1 + np.exp(-x))"
      ],
      "execution_count": 0,
      "outputs": []
    },
    {
      "cell_type": "markdown",
      "metadata": {
        "id": "WWNUpDwsVDCG",
        "colab_type": "text"
      },
      "source": [
        "Initializing Weights"
      ]
    },
    {
      "cell_type": "code",
      "metadata": {
        "id": "0JiMnMBUOiz7",
        "colab_type": "code",
        "colab": {}
      },
      "source": [
        "weights = np.zeros(25)\n",
        "bias = 0\n",
        "epochs = 10\n",
        "alpha = 1\n",
        "target = np.zeros(len(inputs))"
      ],
      "execution_count": 0,
      "outputs": []
    },
    {
      "cell_type": "markdown",
      "metadata": {
        "id": "tYIvcA9uVKD4",
        "colab_type": "text"
      },
      "source": [
        "Training using Perceptron model"
      ]
    },
    {
      "cell_type": "code",
      "metadata": {
        "id": "GUdLtwrTOi0L",
        "colab_type": "code",
        "colab": {}
      },
      "source": [
        "for e in range(epochs):\n",
        "    for i in range(len(inputs)):\n",
        "        out = np.matmul(inputs[i], weights) + bias\n",
        "        out = sigmoid(out)\n",
        "\n",
        "        if out>0.75:\n",
        "            y = 1\n",
        "        else:\n",
        "            y = -1\n",
        "\n",
        "        if y!=outputs[i]:   # Weight updation\n",
        "            del_w = alpha*outputs[i]*inputs[i]\n",
        "            del_b = alpha*outputs[i]\n",
        "            weights += del_w\n",
        "            bias += del_b"
      ],
      "execution_count": 0,
      "outputs": []
    },
    {
      "cell_type": "markdown",
      "metadata": {
        "id": "BDNEdHw7Tsni",
        "colab_type": "text"
      },
      "source": [
        "Testing and Validation Phase"
      ]
    },
    {
      "cell_type": "code",
      "metadata": {
        "id": "_-b7rn_7Oi0p",
        "colab_type": "code",
        "colab": {}
      },
      "source": [
        "def predict(x):\n",
        "    out_test_predict = np.matmul(x, weights) + bias\n",
        "    sig_out_test_predict = sigmoid(out_test_predict)\n",
        "    if(sig_out_test_predict > 0.85):\n",
        "        print(\"It's a match\")\n",
        "    else:\n",
        "        print(\"It isn't a match\")"
      ],
      "execution_count": 0,
      "outputs": []
    },
    {
      "cell_type": "code",
      "metadata": {
        "id": "LHetHNUdOi0t",
        "colab_type": "code",
        "outputId": "b5700659-ddcd-4aff-f5cd-667e221c4cd5",
        "colab": {
          "base_uri": "https://localhost:8080/",
          "height": 34
        }
      },
      "source": [
        "predict(a1)"
      ],
      "execution_count": 13,
      "outputs": [
        {
          "output_type": "stream",
          "text": [
            "It isn't a match\n"
          ],
          "name": "stdout"
        }
      ]
    },
    {
      "cell_type": "code",
      "metadata": {
        "id": "s6EMIZVMOi0x",
        "colab_type": "code",
        "outputId": "924a727a-c6b4-490b-d7ca-05052db297d9",
        "colab": {
          "base_uri": "https://localhost:8080/",
          "height": 34
        }
      },
      "source": [
        "predict(a4)"
      ],
      "execution_count": 14,
      "outputs": [
        {
          "output_type": "stream",
          "text": [
            "It isn't a match\n"
          ],
          "name": "stdout"
        }
      ]
    },
    {
      "cell_type": "code",
      "metadata": {
        "id": "f63zFm6POi03",
        "colab_type": "code",
        "outputId": "2220c4aa-ac00-41b9-d6df-0ee205f4ba58",
        "colab": {
          "base_uri": "https://localhost:8080/",
          "height": 34
        }
      },
      "source": [
        "predict(a2)"
      ],
      "execution_count": 15,
      "outputs": [
        {
          "output_type": "stream",
          "text": [
            "It isn't a match\n"
          ],
          "name": "stdout"
        }
      ]
    },
    {
      "cell_type": "code",
      "metadata": {
        "id": "yn0ltr0eOi06",
        "colab_type": "code",
        "outputId": "6ed29f42-7071-4b52-9e88-63a0207d78af",
        "colab": {
          "base_uri": "https://localhost:8080/",
          "height": 34
        }
      },
      "source": [
        "predict(a3)"
      ],
      "execution_count": 16,
      "outputs": [
        {
          "output_type": "stream",
          "text": [
            "It isn't a match\n"
          ],
          "name": "stdout"
        }
      ]
    },
    {
      "cell_type": "code",
      "metadata": {
        "id": "67TxCGMTOi09",
        "colab_type": "code",
        "outputId": "9f329b82-f9c0-4488-8163-36815037d5d8",
        "colab": {
          "base_uri": "https://localhost:8080/",
          "height": 34
        }
      },
      "source": [
        "predict(a5)"
      ],
      "execution_count": 17,
      "outputs": [
        {
          "output_type": "stream",
          "text": [
            "It isn't a match\n"
          ],
          "name": "stdout"
        }
      ]
    },
    {
      "cell_type": "code",
      "metadata": {
        "id": "fZHz4MLfOi1D",
        "colab_type": "code",
        "outputId": "573042c5-d688-4297-f775-2619c21a37a0",
        "colab": {
          "base_uri": "https://localhost:8080/",
          "height": 34
        }
      },
      "source": [
        "predict(a6)"
      ],
      "execution_count": 18,
      "outputs": [
        {
          "output_type": "stream",
          "text": [
            "It's a match\n"
          ],
          "name": "stdout"
        }
      ]
    },
    {
      "cell_type": "markdown",
      "metadata": {
        "id": "3Bpe6W9fZgqK",
        "colab_type": "text"
      },
      "source": [
        "Testing new values that the model has never seen before"
      ]
    },
    {
      "cell_type": "code",
      "metadata": {
        "id": "8bL7RoHUXdk5",
        "colab_type": "code",
        "outputId": "2e5298a4-90f9-4e51-b5e7-4f3885fbddb2",
        "colab": {
          "base_uri": "https://localhost:8080/",
          "height": 34
        }
      },
      "source": [
        "a_test0 = np.zeros(25) - 1\n",
        "predict(a_test0)"
      ],
      "execution_count": 21,
      "outputs": [
        {
          "output_type": "stream",
          "text": [
            "It's a match\n"
          ],
          "name": "stdout"
        }
      ]
    },
    {
      "cell_type": "code",
      "metadata": {
        "id": "Y-QwlRNxOi1I",
        "colab_type": "code",
        "outputId": "34e165ed-47e6-4e91-da1a-8572d3bce012",
        "colab": {
          "base_uri": "https://localhost:8080/",
          "height": 34
        }
      },
      "source": [
        "a_test1 = np.ones(25)\n",
        "predict(a_test1)"
      ],
      "execution_count": 22,
      "outputs": [
        {
          "output_type": "stream",
          "text": [
            "It isn't a match\n"
          ],
          "name": "stdout"
        }
      ]
    }
  ]
}