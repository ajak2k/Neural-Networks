{
  "nbformat": 4,
  "nbformat_minor": 0,
  "metadata": {
    "colab": {
      "name": "Counter Propagation .ipynb",
      "provenance": [],
      "include_colab_link": true
    },
    "kernelspec": {
      "display_name": "Python 3",
      "language": "python",
      "name": "python3"
    },
    "language_info": {
      "codemirror_mode": {
        "name": "ipython",
        "version": 3
      },
      "file_extension": ".py",
      "mimetype": "text/x-python",
      "name": "python",
      "nbconvert_exporter": "python",
      "pygments_lexer": "ipython3",
      "version": "3.7.3"
    }
  },
  "cells": [
    {
      "cell_type": "markdown",
      "metadata": {
        "id": "view-in-github",
        "colab_type": "text"
      },
      "source": [
        "<a href=\"https://colab.research.google.com/github/ajak2k/Neural-Networks/blob/master/Counter_Propagation_.ipynb\" target=\"_parent\"><img src=\"https://colab.research.google.com/assets/colab-badge.svg\" alt=\"Open In Colab\"/></a>"
      ]
    },
    {
      "cell_type": "code",
      "metadata": {
        "colab_type": "code",
        "id": "5xePCtimNI3i",
        "colab": {}
      },
      "source": [
        "import numpy as np\n",
        "import matplotlib.pyplot as plt"
      ],
      "execution_count": 0,
      "outputs": []
    },
    {
      "cell_type": "markdown",
      "metadata": {
        "id": "yLzeQTeivxKK",
        "colab_type": "text"
      },
      "source": [
        "Generating Training Data"
      ]
    },
    {
      "cell_type": "code",
      "metadata": {
        "colab_type": "code",
        "id": "7nallSiBNnMV",
        "colab": {}
      },
      "source": [
        "n = 1000  #number of data sets\n",
        "inp = np.random.rand(n) * 10.0\n",
        "out = 1 / inp"
      ],
      "execution_count": 0,
      "outputs": []
    },
    {
      "cell_type": "markdown",
      "metadata": {
        "id": "oowzZVO-vW86",
        "colab_type": "text"
      },
      "source": [
        "Initializing Weights"
      ]
    },
    {
      "cell_type": "code",
      "metadata": {
        "colab_type": "code",
        "id": "KYk-OsLUNe1O",
        "colab": {}
      },
      "source": [
        "v = np.random.rand(10)\n",
        "w = np.random.rand(10)\n",
        "t = np.random.rand(10)\n",
        "u = np.random.rand(10)"
      ],
      "execution_count": 0,
      "outputs": []
    },
    {
      "cell_type": "markdown",
      "metadata": {
        "id": "vQGcweEFvQ1u",
        "colab_type": "text"
      },
      "source": [
        "Initializing Learning Rates"
      ]
    },
    {
      "cell_type": "code",
      "metadata": {
        "colab_type": "code",
        "id": "MwWTWgNyTFiz",
        "colab": {}
      },
      "source": [
        "alpha = 0.6\n",
        "beta = 0.6\n",
        "a = 0.85\n",
        "b = 0.85\n",
        "decay_factor = 0.8"
      ],
      "execution_count": 0,
      "outputs": []
    },
    {
      "cell_type": "code",
      "metadata": {
        "colab_type": "code",
        "id": "uLaBAV9zYSFv",
        "colab": {}
      },
      "source": [
        "epochs = 25"
      ],
      "execution_count": 0,
      "outputs": []
    },
    {
      "cell_type": "markdown",
      "metadata": {
        "id": "24LcMtz2vgDa",
        "colab_type": "text"
      },
      "source": [
        "Stage 1 Training: Kohonen Learning"
      ]
    },
    {
      "cell_type": "code",
      "metadata": {
        "colab_type": "code",
        "id": "BFgG6U9xSX34",
        "colab": {}
      },
      "source": [
        "for epoch in range(epochs):\n",
        "  for i in range(n):\n",
        "    ED = ((v - inp[i]) ** 2) + ((w - out[i]) ** 2)\n",
        "    J = ED.argmin()\n",
        "    v[J] = ( 1 - alpha ) * v[J] + alpha * inp[i]\n",
        "    w[J] = ( 1 - beta ) * w[J] + beta * out[i]\n",
        "  alpha = decay_factor * alpha\n",
        "  beta = decay_factor * beta"
      ],
      "execution_count": 0,
      "outputs": []
    },
    {
      "cell_type": "code",
      "metadata": {
        "colab_type": "code",
        "id": "82q0goJtUnTB",
        "outputId": "f8f1e1e2-ef19-4ef5-e647-d1e20591f815",
        "colab": {
          "base_uri": "https://localhost:8080/",
          "height": 84
        }
      },
      "source": [
        "print(\"V Weights: \", v)\n",
        "print(\"W Weights: \", w)"
      ],
      "execution_count": 26,
      "outputs": [
        {
          "output_type": "stream",
          "text": [
            "V Weights:  [2.88323719 4.58756336 1.21527288 0.04708096 0.01333777 9.37043155\n",
            " 0.11608091 0.3824474  7.78284789 6.2549162 ]\n",
            "W Weights:  [ 0.35709395  0.22034694  0.94058979 21.58712319 82.28394157  0.10693034\n",
            "  9.03239918  2.80407299  0.12890837  0.16070755]\n"
          ],
          "name": "stdout"
        }
      ]
    },
    {
      "cell_type": "markdown",
      "metadata": {
        "id": "FD5MzualwGrz",
        "colab_type": "text"
      },
      "source": [
        "Stage 2 Training: Grossberg Learning"
      ]
    },
    {
      "cell_type": "code",
      "metadata": {
        "colab_type": "code",
        "id": "1FPs1zmYUyji",
        "colab": {}
      },
      "source": [
        "for epoch in range(epochs):\n",
        "  for i in range(n):\n",
        "    ED = (v - inp[i]) ** 2 + (w - out[i]) ** 2\n",
        "    J = ED.argmin()\n",
        "    u[J] = ( 1 - a ) * u[J] + a * out[i]\n",
        "    t[J] = ( 1 - b ) * t[J] + b * inp[i]\n",
        "  a = decay_factor * a\n",
        "  b = decay_factor * b"
      ],
      "execution_count": 0,
      "outputs": []
    },
    {
      "cell_type": "code",
      "metadata": {
        "colab_type": "code",
        "id": "4kUj3wP8Vmtn",
        "outputId": "9c3ee539-1dce-41fd-d751-40d29725aa95",
        "colab": {
          "base_uri": "https://localhost:8080/",
          "height": 84
        }
      },
      "source": [
        "print(\"T Weights: \", t)\n",
        "print(\"U Weights: \", u)"
      ],
      "execution_count": 28,
      "outputs": [
        {
          "output_type": "stream",
          "text": [
            "T Weights:  [2.88352843 4.58662807 1.21404701 0.0470881  0.01334174 9.37356754\n",
            " 0.1160515  0.38089607 7.78885285 6.25556056]\n",
            "U Weights:  [ 0.35701672  0.22040141  0.94179795 21.58396943 82.25797264  0.10689321\n",
            "  9.03458147  2.81319419  0.12880562  0.16069251]\n"
          ],
          "name": "stdout"
        }
      ]
    },
    {
      "cell_type": "markdown",
      "metadata": {
        "id": "4jAUfJ8Zy5m6",
        "colab_type": "text"
      },
      "source": [
        "Testing and Validation"
      ]
    },
    {
      "cell_type": "code",
      "metadata": {
        "id": "4z29-iMFy8EK",
        "colab_type": "code",
        "colab": {
          "base_uri": "https://localhost:8080/",
          "height": 34
        },
        "outputId": "085b2cec-44ec-41cb-d069-70d3df9b8f7a"
      },
      "source": [
        "xip= 0.12\n",
        "for i in range(10):\n",
        "    ED = (v - xip) ** 2 # only ip is here so neglet V\n",
        "    J = ED.argmin()\n",
        "\n",
        "yop = u[J]\n",
        "print(yop)\n"
      ],
      "execution_count": 29,
      "outputs": [
        {
          "output_type": "stream",
          "text": [
            "9.034581466197007\n"
          ],
          "name": "stdout"
        }
      ]
    },
    {
      "cell_type": "code",
      "metadata": {
        "id": "xm5zPbOm0Ups",
        "colab_type": "code",
        "colab": {}
      },
      "source": [
        ""
      ],
      "execution_count": 0,
      "outputs": []
    }
  ]
}