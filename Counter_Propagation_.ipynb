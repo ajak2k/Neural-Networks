{
  "nbformat": 4,
  "nbformat_minor": 0,
  "metadata": {
    "colab": {
      "name": "Counter Propagation .ipynb",
      "provenance": [],
      "include_colab_link": true
    },
    "kernelspec": {
      "display_name": "Python 3",
      "language": "python",
      "name": "python3"
    },
    "language_info": {
      "codemirror_mode": {
        "name": "ipython",
        "version": 3
      },
      "file_extension": ".py",
      "mimetype": "text/x-python",
      "name": "python",
      "nbconvert_exporter": "python",
      "pygments_lexer": "ipython3",
      "version": "3.7.3"
    }
  },
  "cells": [
    {
      "cell_type": "markdown",
      "metadata": {
        "id": "view-in-github",
        "colab_type": "text"
      },
      "source": [
        "<a href=\"https://colab.research.google.com/github/ajak2k/Neural-Networks/blob/master/Counter_Propagation_.ipynb\" target=\"_parent\"><img src=\"https://colab.research.google.com/assets/colab-badge.svg\" alt=\"Open In Colab\"/></a>"
      ]
    },
    {
      "cell_type": "code",
      "metadata": {
        "colab_type": "code",
        "id": "5xePCtimNI3i",
        "colab": {}
      },
      "source": [
        "import numpy as np\n",
        "import matplotlib.pyplot as plt"
      ],
      "execution_count": 0,
      "outputs": []
    },
    {
      "cell_type": "markdown",
      "metadata": {
        "id": "yLzeQTeivxKK",
        "colab_type": "text"
      },
      "source": [
        "Generating Training Data"
      ]
    },
    {
      "cell_type": "code",
      "metadata": {
        "colab_type": "code",
        "id": "7nallSiBNnMV",
        "colab": {}
      },
      "source": [
        "n = 1000  #number of data sets\n",
        "inp = np.random.rand(n) * 10.0\n",
        "out = 1 / inp"
      ],
      "execution_count": 0,
      "outputs": []
    },
    {
      "cell_type": "markdown",
      "metadata": {
        "id": "oowzZVO-vW86",
        "colab_type": "text"
      },
      "source": [
        "Initializing Weights"
      ]
    },
    {
      "cell_type": "code",
      "metadata": {
        "colab_type": "code",
        "id": "KYk-OsLUNe1O",
        "colab": {}
      },
      "source": [
        "v = np.random.rand(10)\n",
        "w = np.random.rand(10)\n",
        "t = np.random.rand(10)\n",
        "u = np.random.rand(10)"
      ],
      "execution_count": 0,
      "outputs": []
    },
    {
      "cell_type": "markdown",
      "metadata": {
        "id": "vQGcweEFvQ1u",
        "colab_type": "text"
      },
      "source": [
        "Initializing Learning Rates"
      ]
    },
    {
      "cell_type": "code",
      "metadata": {
        "colab_type": "code",
        "id": "MwWTWgNyTFiz",
        "colab": {}
      },
      "source": [
        "alpha = 0.6\n",
        "beta = 0.6\n",
        "a = 0.85\n",
        "b = 0.85\n",
        "decay_factor = 0.8"
      ],
      "execution_count": 0,
      "outputs": []
    },
    {
      "cell_type": "code",
      "metadata": {
        "colab_type": "code",
        "id": "uLaBAV9zYSFv",
        "colab": {}
      },
      "source": [
        "epochs = 25"
      ],
      "execution_count": 0,
      "outputs": []
    },
    {
      "cell_type": "markdown",
      "metadata": {
        "id": "24LcMtz2vgDa",
        "colab_type": "text"
      },
      "source": [
        "Stage 1 Training: Kohonen Learning"
      ]
    },
    {
      "cell_type": "code",
      "metadata": {
        "colab_type": "code",
        "id": "BFgG6U9xSX34",
        "colab": {}
      },
      "source": [
        "for epoch in range(epochs):\n",
        "  for i in range(n):\n",
        "    ED = ((v - inp[i]) ** 2) + ((w - out[i]) ** 2)\n",
        "    J = ED.argmin()\n",
        "    v[J] = ( 1 - alpha ) * v[J] + alpha * inp[i]\n",
        "    w[J] = ( 1 - beta ) * w[J] + beta * out[i]\n",
        "  alpha = decay_factor * alpha\n",
        "  beta = decay_factor * beta"
      ],
      "execution_count": 0,
      "outputs": []
    },
    {
      "cell_type": "code",
      "metadata": {
        "colab_type": "code",
        "id": "82q0goJtUnTB",
        "outputId": "4626e844-4db9-456c-d021-2f756f9811ec",
        "colab": {
          "base_uri": "https://localhost:8080/",
          "height": 84
        }
      },
      "source": [
        "print(\"V Weights: \", v)\n",
        "print(\"W Weights: \", w)"
      ],
      "execution_count": 15,
      "outputs": [
        {
          "output_type": "stream",
          "text": [
            "V Weights:  [7.40251299 0.04578999 0.78487814 0.09273794 2.25566914 4.07755048\n",
            " 5.91195896 0.0124138  9.09387368 0.21687066]\n",
            "W Weights:  [ 0.13563456 21.91093192  1.49272475 11.2845188   0.47050705  0.24962777\n",
            "  0.17013202 81.16421028  0.11031541  4.83252419]\n"
          ],
          "name": "stdout"
        }
      ]
    },
    {
      "cell_type": "markdown",
      "metadata": {
        "id": "FD5MzualwGrz",
        "colab_type": "text"
      },
      "source": [
        "Stage 2 Training: Grossberg Learning"
      ]
    },
    {
      "cell_type": "code",
      "metadata": {
        "colab_type": "code",
        "id": "1FPs1zmYUyji",
        "colab": {}
      },
      "source": [
        "for epoch in range(epochs):\n",
        "  for i in range(n):\n",
        "    ED = (v - inp[i]) ** 2 + (w - out[i]) ** 2\n",
        "    J = ED.argmin()\n",
        "    u[J] = ( 1 - a ) * u[J] + a * out[i]\n",
        "    t[J] = ( 1 - b ) * t[J] + b * inp[i]\n",
        "  a = decay_factor * a\n",
        "  b = decay_factor * b"
      ],
      "execution_count": 0,
      "outputs": []
    },
    {
      "cell_type": "code",
      "metadata": {
        "colab_type": "code",
        "id": "4kUj3wP8Vmtn",
        "outputId": "2cd032e9-aab9-44dc-be75-139bb45cb77e",
        "colab": {
          "base_uri": "https://localhost:8080/",
          "height": 85
        }
      },
      "source": [
        "print(\"T Weights: \", t)\n",
        "print(\"U Weights: \", u)"
      ],
      "execution_count": 0,
      "outputs": [
        {
          "output_type": "stream",
          "text": [
            "T Weights:  [2.73829971 1.25373605 4.25390504 0.06625481 9.13078553 0.02646978\n",
            " 5.7235451  7.4311717  0.38238724 0.19901404]\n",
            "U Weights:  [ 0.3750031   0.88680805  0.23744344 15.37272477  0.10982301 37.99260058\n",
            "  0.17591651  0.13509936  2.80482934  5.25143868]\n"
          ],
          "name": "stdout"
        }
      ]
    }
  ]
}