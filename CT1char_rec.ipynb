{
  "nbformat": 4,
  "nbformat_minor": 0,
  "metadata": {
    "colab": {
      "name": "CT1char rec.ipynb",
      "provenance": [],
      "include_colab_link": true
    },
    "kernelspec": {
      "display_name": "Python 3",
      "language": "python",
      "name": "python3"
    },
    "language_info": {
      "codemirror_mode": {
        "name": "ipython",
        "version": 3
      },
      "file_extension": ".py",
      "mimetype": "text/x-python",
      "name": "python",
      "nbconvert_exporter": "python",
      "pygments_lexer": "ipython3",
      "version": "3.7.0"
    }
  },
  "cells": [
    {
      "cell_type": "markdown",
      "metadata": {
        "id": "view-in-github",
        "colab_type": "text"
      },
      "source": [
        "<a href=\"https://colab.research.google.com/github/ajak2k/Neural-Networks/blob/master/CT1char_rec.ipynb\" target=\"_parent\"><img src=\"https://colab.research.google.com/assets/colab-badge.svg\" alt=\"Open In Colab\"/></a>"
      ]
    },
    {
      "cell_type": "markdown",
      "metadata": {
        "colab_type": "text",
        "id": "t4oe3mDrZNKs"
      },
      "source": [
        "Here we aim to train the model for the character ***I***"
      ]
    },
    {
      "cell_type": "code",
      "metadata": {
        "colab_type": "code",
        "id": "G2X5RZ_lOix4",
        "colab": {}
      },
      "source": [
        "import numpy as np"
      ],
      "execution_count": 0,
      "outputs": []
    },
    {
      "cell_type": "markdown",
      "metadata": {
        "colab_type": "text",
        "id": "V6oO5dE5UXmK"
      },
      "source": [
        "Creating IP dataset"
      ]
    },
    {
      "cell_type": "code",
      "metadata": {
        "colab_type": "code",
        "id": "91rMjKKnYpUP",
        "colab": {}
      },
      "source": [
        "inputs = []\n",
        "a1 = np.zeros(25) - 1\n",
        "a2 = np.zeros(25) - 1\n",
        "a3 = np.zeros(25) - 1\n",
        "a4 = np.zeros(25) - 1\n",
        "a5 = np.zeros(25) - 1\n",
        "a6 = np.zeros(25) - 1"
      ],
      "execution_count": 0,
      "outputs": []
    },
    {
      "cell_type": "code",
      "metadata": {
        "colab_type": "code",
        "id": "DuVm6EJzOiy_",
        "colab": {}
      },
      "source": [
        "#C\n",
        "for i in range(1, 5):\n",
        "    a1[i] = 1\n",
        "for i in range(5, 16, 5):\n",
        "    a1[i] = 1\n",
        "for i in range(21, 25):\n",
        "    a1[i] = 1\n",
        "#O\n",
        "for i in range(1, 4):\n",
        "    a2[i] = 1\n",
        "for i in range(5, 16, 5):\n",
        "    a2[i] = 1\n",
        "for i in range(9, 20, 5):\n",
        "    a2[i] = 1\n",
        "for i in range(21, 24):\n",
        "    a2[i] = 1\n",
        "\n",
        "#D\n",
        "for i in range(0, 4):\n",
        "    a3[i] = 1\n",
        "for i in range(5, 16, 5):\n",
        "    a3[i] = 1\n",
        "for i in range(20, 24):\n",
        "    a3[i] = 1\n",
        "for i in range(9, 20, 5):\n",
        "    a3[i] = 1\n",
        "\n",
        "#F\n",
        "for i in range(0, 5):\n",
        "    a4[i] = 1\n",
        "for i in range(5, 21, 5):\n",
        "    a4[i] = 1\n",
        "for i in range(10, 15):\n",
        "    a4[i] = 1\n",
        "\n",
        "#x1\n",
        "a5 = [0,1,1,0,1, 1,0,1,0,1, 0,1,1,1,1, 0,0,1,0,1, 1,1,1,0,1]\n",
        "\n",
        "#I\n",
        "a5 = [0,0,0,0,0, 0,1,1,1,1, 0,1,1,1,1, 1,1,1,1,1, 1,1,1,1,1]"
      ],
      "execution_count": 0,
      "outputs": []
    },
    {
      "cell_type": "code",
      "metadata": {
        "colab_type": "code",
        "id": "Xj60TZDDOizy",
        "colab": {}
      },
      "source": [
        "inputs.append(a1)\n",
        "inputs.append(a2)\n",
        "inputs.append(a3)\n",
        "inputs.append(a4)\n",
        "inputs.append(a5)\n",
        "inputs.append(a6)"
      ],
      "execution_count": 0,
      "outputs": []
    },
    {
      "cell_type": "markdown",
      "metadata": {
        "colab_type": "text",
        "id": "iC8VwV5fU3q_"
      },
      "source": [
        "Output dataset"
      ]
    },
    {
      "cell_type": "code",
      "metadata": {
        "colab_type": "code",
        "id": "6VHVPCHrU15Q",
        "colab": {}
      },
      "source": [
        "outputs = [-1, -1, -1, -1, 1, 1]"
      ],
      "execution_count": 0,
      "outputs": []
    },
    {
      "cell_type": "markdown",
      "metadata": {
        "colab_type": "text",
        "id": "L5GR6W3yVGGl"
      },
      "source": [
        "Activation fuction"
      ]
    },
    {
      "cell_type": "code",
      "metadata": {
        "colab_type": "code",
        "id": "dfQibd5JOi0E",
        "colab": {}
      },
      "source": [
        "def sigmoid(x):\n",
        "    return 1/(1 + np.exp(-x))"
      ],
      "execution_count": 0,
      "outputs": []
    },
    {
      "cell_type": "markdown",
      "metadata": {
        "colab_type": "text",
        "id": "WWNUpDwsVDCG"
      },
      "source": [
        "Initializing Weights"
      ]
    },
    {
      "cell_type": "code",
      "metadata": {
        "colab_type": "code",
        "id": "0JiMnMBUOiz7",
        "colab": {}
      },
      "source": [
        "weights = np.zeros(25)\n",
        "bias = 0\n",
        "epochs = 10\n",
        "alpha = 1\n",
        "target = np.zeros(len(inputs))"
      ],
      "execution_count": 0,
      "outputs": []
    },
    {
      "cell_type": "markdown",
      "metadata": {
        "colab_type": "text",
        "id": "tYIvcA9uVKD4"
      },
      "source": [
        "Training using Perceptron model"
      ]
    },
    {
      "cell_type": "code",
      "metadata": {
        "colab_type": "code",
        "id": "GUdLtwrTOi0L",
        "colab": {}
      },
      "source": [
        "for e in range(epochs):\n",
        "    for i in range(len(inputs)):\n",
        "        out = np.matmul(inputs[i], weights) + bias\n",
        "        out = sigmoid(out)\n",
        "\n",
        "        if out>0.75:\n",
        "            y = 1\n",
        "        else:\n",
        "            y = -1\n",
        "\n",
        "        if y!=outputs[i]:   # Weight updation\n",
        "            del_w = alpha*outputs[i]*inputs[i]\n",
        "            del_b = alpha*outputs[i]\n",
        "            weights += del_w\n",
        "            bias += del_b"
      ],
      "execution_count": 0,
      "outputs": []
    },
    {
      "cell_type": "markdown",
      "metadata": {
        "colab_type": "text",
        "id": "BDNEdHw7Tsni"
      },
      "source": [
        "Testing and Validation Phase"
      ]
    },
    {
      "cell_type": "code",
      "metadata": {
        "colab_type": "code",
        "id": "_-b7rn_7Oi0p",
        "colab": {}
      },
      "source": [
        "def predict(x):\n",
        "    out_test_predict = np.matmul(x, weights) + bias\n",
        "    sig_out_test_predict = sigmoid(out_test_predict)\n",
        "    if(sig_out_test_predict > 0.85):\n",
        "        print(\"It's a match\")\n",
        "    else:\n",
        "        print(\"It isn't a match\")"
      ],
      "execution_count": 0,
      "outputs": []
    },
    {
      "cell_type": "code",
      "metadata": {
        "colab_type": "code",
        "id": "LHetHNUdOi0t",
        "outputId": "6591d88f-40af-4ed4-b48a-832f7f9917b7",
        "colab": {
          "base_uri": "https://localhost:8080/",
          "height": 34
        }
      },
      "source": [
        "predict(a1)"
      ],
      "execution_count": 10,
      "outputs": [
        {
          "output_type": "stream",
          "text": [
            "It isn't a match\n"
          ],
          "name": "stdout"
        }
      ]
    },
    {
      "cell_type": "code",
      "metadata": {
        "colab_type": "code",
        "id": "s6EMIZVMOi0x",
        "outputId": "724bd519-31e2-488f-971e-ac5f481fb87b",
        "colab": {
          "base_uri": "https://localhost:8080/",
          "height": 34
        }
      },
      "source": [
        "predict(a4)"
      ],
      "execution_count": 11,
      "outputs": [
        {
          "output_type": "stream",
          "text": [
            "It isn't a match\n"
          ],
          "name": "stdout"
        }
      ]
    },
    {
      "cell_type": "code",
      "metadata": {
        "colab_type": "code",
        "id": "f63zFm6POi03",
        "outputId": "79674a67-f345-416d-c2f4-8b1516c717e2",
        "colab": {
          "base_uri": "https://localhost:8080/",
          "height": 34
        }
      },
      "source": [
        "predict(a2)"
      ],
      "execution_count": 12,
      "outputs": [
        {
          "output_type": "stream",
          "text": [
            "It isn't a match\n"
          ],
          "name": "stdout"
        }
      ]
    },
    {
      "cell_type": "code",
      "metadata": {
        "colab_type": "code",
        "id": "yn0ltr0eOi06",
        "outputId": "131a98be-cc84-4380-a90c-4a2353940a8f",
        "colab": {
          "base_uri": "https://localhost:8080/",
          "height": 34
        }
      },
      "source": [
        "predict(a3)"
      ],
      "execution_count": 13,
      "outputs": [
        {
          "output_type": "stream",
          "text": [
            "It isn't a match\n"
          ],
          "name": "stdout"
        }
      ]
    },
    {
      "cell_type": "code",
      "metadata": {
        "colab_type": "code",
        "id": "67TxCGMTOi09",
        "outputId": "6cd15685-5099-419f-b455-8f9405c5e80b",
        "colab": {
          "base_uri": "https://localhost:8080/",
          "height": 34
        }
      },
      "source": [
        "predict(a5)"
      ],
      "execution_count": 14,
      "outputs": [
        {
          "output_type": "stream",
          "text": [
            "It's a match\n"
          ],
          "name": "stdout"
        }
      ]
    },
    {
      "cell_type": "code",
      "metadata": {
        "colab_type": "code",
        "id": "fZHz4MLfOi1D",
        "outputId": "72b1074d-974f-46bc-80d0-09091a498317",
        "colab": {
          "base_uri": "https://localhost:8080/",
          "height": 34
        }
      },
      "source": [
        "predict(a6)"
      ],
      "execution_count": 15,
      "outputs": [
        {
          "output_type": "stream",
          "text": [
            "It's a match\n"
          ],
          "name": "stdout"
        }
      ]
    },
    {
      "cell_type": "markdown",
      "metadata": {
        "colab_type": "text",
        "id": "3Bpe6W9fZgqK"
      },
      "source": [
        "Testing new values that the model has never seen before"
      ]
    },
    {
      "cell_type": "code",
      "metadata": {
        "colab_type": "code",
        "id": "Y-QwlRNxOi1I",
        "outputId": "7df2c9b5-54a3-4d2c-c703-e89219a69dbc",
        "colab": {
          "base_uri": "https://localhost:8080/",
          "height": 34
        }
      },
      "source": [
        "a_test1 = np.ones(25)\n",
        "predict(a_test1)"
      ],
      "execution_count": 16,
      "outputs": [
        {
          "output_type": "stream",
          "text": [
            "It isn't a match\n"
          ],
          "name": "stdout"
        }
      ]
    }
  ]
}